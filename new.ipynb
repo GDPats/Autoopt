{
 "cells": [
  {
   "cell_type": "code",
   "execution_count": 2,
   "metadata": {},
   "outputs": [
    {
     "data": {
      "text/html": [
       "<div>\n",
       "<style scoped>\n",
       "    .dataframe tbody tr th:only-of-type {\n",
       "        vertical-align: middle;\n",
       "    }\n",
       "\n",
       "    .dataframe tbody tr th {\n",
       "        vertical-align: top;\n",
       "    }\n",
       "\n",
       "    .dataframe thead th {\n",
       "        text-align: right;\n",
       "    }\n",
       "</style>\n",
       "<table border=\"1\" class=\"dataframe\">\n",
       "  <thead>\n",
       "    <tr style=\"text-align: right;\">\n",
       "      <th></th>\n",
       "      <th>sepal length (cm)</th>\n",
       "      <th>sepal width (cm)</th>\n",
       "      <th>petal length (cm)</th>\n",
       "      <th>petal width (cm)</th>\n",
       "      <th>target</th>\n",
       "    </tr>\n",
       "  </thead>\n",
       "  <tbody>\n",
       "    <tr>\n",
       "      <th>0</th>\n",
       "      <td>5.1</td>\n",
       "      <td>3.5</td>\n",
       "      <td>1.4</td>\n",
       "      <td>0.2</td>\n",
       "      <td>0</td>\n",
       "    </tr>\n",
       "    <tr>\n",
       "      <th>1</th>\n",
       "      <td>4.9</td>\n",
       "      <td>3.0</td>\n",
       "      <td>1.4</td>\n",
       "      <td>0.2</td>\n",
       "      <td>0</td>\n",
       "    </tr>\n",
       "    <tr>\n",
       "      <th>2</th>\n",
       "      <td>4.7</td>\n",
       "      <td>3.2</td>\n",
       "      <td>1.3</td>\n",
       "      <td>0.2</td>\n",
       "      <td>0</td>\n",
       "    </tr>\n",
       "    <tr>\n",
       "      <th>3</th>\n",
       "      <td>4.6</td>\n",
       "      <td>3.1</td>\n",
       "      <td>1.5</td>\n",
       "      <td>0.2</td>\n",
       "      <td>0</td>\n",
       "    </tr>\n",
       "    <tr>\n",
       "      <th>4</th>\n",
       "      <td>5.0</td>\n",
       "      <td>3.6</td>\n",
       "      <td>1.4</td>\n",
       "      <td>0.2</td>\n",
       "      <td>0</td>\n",
       "    </tr>\n",
       "  </tbody>\n",
       "</table>\n",
       "</div>"
      ],
      "text/plain": [
       "   sepal length (cm)  sepal width (cm)  petal length (cm)  petal width (cm)  \\\n",
       "0                5.1               3.5                1.4               0.2   \n",
       "1                4.9               3.0                1.4               0.2   \n",
       "2                4.7               3.2                1.3               0.2   \n",
       "3                4.6               3.1                1.5               0.2   \n",
       "4                5.0               3.6                1.4               0.2   \n",
       "\n",
       "   target  \n",
       "0       0  \n",
       "1       0  \n",
       "2       0  \n",
       "3       0  \n",
       "4       0  "
      ]
     },
     "execution_count": 2,
     "metadata": {},
     "output_type": "execute_result"
    }
   ],
   "source": [
    "from sklearn.datasets import load_iris\n",
    "import pandas as pd\n",
    "\n",
    "# Load Iris dataset\n",
    "data = load_iris()\n",
    "X, y = data.data, data.target\n",
    "\n",
    "# Convert to DataFrame for easier viewing\n",
    "df = pd.DataFrame(X, columns=data.feature_names)\n",
    "df['target'] = y\n",
    "\n",
    "df.head()  # Show the first 5 rows\n"
   ]
  },
  {
   "cell_type": "code",
   "execution_count": 3,
   "metadata": {},
   "outputs": [
    {
     "name": "stdout",
     "output_type": "stream",
     "text": [
      "Training set shape: (120, 4)\n",
      "Test set shape: (30, 4)\n"
     ]
    }
   ],
   "source": [
    "from sklearn.model_selection import train_test_split\n",
    "\n",
    "X_train, X_test, y_train, y_test = train_test_split(X, y, test_size=0.2, random_state=42)\n",
    "\n",
    "print(f\"Training set shape: {X_train.shape}\")\n",
    "print(f\"Test set shape: {X_test.shape}\")\n"
   ]
  },
  {
   "cell_type": "code",
   "execution_count": 4,
   "metadata": {},
   "outputs": [
    {
     "name": "stdout",
     "output_type": "stream",
     "text": [
      "StandardScaler (first 5 rows):\n",
      " [[-0.90068117  1.01900435 -1.34022653 -1.3154443 ]\n",
      " [-1.14301691 -0.13197948 -1.34022653 -1.3154443 ]\n",
      " [-1.38535265  0.32841405 -1.39706395 -1.3154443 ]\n",
      " [-1.50652052  0.09821729 -1.2833891  -1.3154443 ]\n",
      " [-1.02184904  1.24920112 -1.34022653 -1.3154443 ]]\n",
      "MinMaxScaler (first 5 rows):\n",
      " [[0.22222222 0.625      0.06779661 0.04166667]\n",
      " [0.16666667 0.41666667 0.06779661 0.04166667]\n",
      " [0.11111111 0.5        0.05084746 0.04166667]\n",
      " [0.08333333 0.45833333 0.08474576 0.04166667]\n",
      " [0.19444444 0.66666667 0.06779661 0.04166667]]\n",
      "RobustScaler (first 5 rows):\n",
      " [[-0.53846154  1.         -0.84285714 -0.73333333]\n",
      " [-0.69230769  0.         -0.84285714 -0.73333333]\n",
      " [-0.84615385  0.4        -0.87142857 -0.73333333]\n",
      " [-0.92307692  0.2        -0.81428571 -0.73333333]\n",
      " [-0.61538462  1.2        -0.84285714 -0.73333333]]\n"
     ]
    }
   ],
   "source": [
    "from autoopt.preprocessing import standardize_data\n",
    "\n",
    "X_standard = standardize_data(X, method=\"standard\")\n",
    "X_minmax = standardize_data(X, method=\"minmax\")\n",
    "X_robust = standardize_data(X, method=\"robust\")\n",
    "\n",
    "print(\"StandardScaler (first 5 rows):\\n\", X_standard[:5])\n",
    "print(\"MinMaxScaler (first 5 rows):\\n\", X_minmax[:5])\n",
    "print(\"RobustScaler (first 5 rows):\\n\", X_robust[:5])\n"
   ]
  },
  {
   "cell_type": "code",
   "execution_count": 5,
   "metadata": {},
   "outputs": [
    {
     "name": "stdout",
     "output_type": "stream",
     "text": [
      "L2 Normalization (first 5 rows):\n",
      " [[0.80377277 0.55160877 0.22064351 0.0315205 ]\n",
      " [0.82813287 0.50702013 0.23660939 0.03380134]\n",
      " [0.80533308 0.54831188 0.2227517  0.03426949]\n",
      " [0.80003025 0.53915082 0.26087943 0.03478392]\n",
      " [0.790965   0.5694948  0.2214702  0.0316386 ]]\n"
     ]
    }
   ],
   "source": [
    "from autoopt.preprocessing import normalize_data\n",
    "\n",
    "X_normalized = normalize_data(X)\n",
    "\n",
    "print(\"L2 Normalization (first 5 rows):\\n\", X_normalized[:5])\n"
   ]
  },
  {
   "cell_type": "code",
   "execution_count": 7,
   "metadata": {},
   "outputs": [
    {
     "name": "stdout",
     "output_type": "stream",
     "text": [
      "Fitting 5 folds for each of 27 candidates, totalling 135 fits\n",
      "Best Model (GridSearchCV): RandomForestClassifier(min_samples_split=5)\n",
      "Best Parameters (GridSearchCV): {'max_depth': None, 'min_samples_split': 5, 'n_estimators': 100}\n"
     ]
    }
   ],
   "source": [
    "from autoopt.optimizer import run_grid_search\n",
    "\n",
    "best_model_grid, best_params_grid = run_grid_search(\"random_forest\", X_train, y_train)\n",
    "\n",
    "print(\"Best Model (GridSearchCV):\", best_model_grid)\n",
    "print(\"Best Parameters (GridSearchCV):\", best_params_grid)\n",
    "\n"
   ]
  },
  {
   "cell_type": "code",
   "execution_count": 9,
   "metadata": {},
   "outputs": [
    {
     "name": "stdout",
     "output_type": "stream",
     "text": [
      "Fitting 5 folds for each of 5 candidates, totalling 25 fits\n",
      "Best Model (RandomizedSearchCV): SVC(C=1, gamma='auto', kernel='linear')\n",
      "Best Parameters (RandomizedSearchCV): {'kernel': 'linear', 'gamma': 'auto', 'C': 1}\n"
     ]
    }
   ],
   "source": [
    "from autoopt.optimizer import run_randomized_search\n",
    "\n",
    "best_model_random, best_params_random = run_randomized_search(\"svm\", X_train, y_train, n_iter=5)\n",
    "\n",
    "print(\"Best Model (RandomizedSearchCV):\", best_model_random)\n",
    "print(\"Best Parameters (RandomizedSearchCV):\", best_params_random)\n"
   ]
  },
  {
   "cell_type": "code",
   "execution_count": 10,
   "metadata": {},
   "outputs": [
    {
     "name": "stdout",
     "output_type": "stream",
     "text": [
      "L1 Pruning - Shape after pruning: (120, 4)\n"
     ]
    }
   ],
   "source": [
    "from autoopt.pruning import run_pruning_algorithms\n",
    "\n",
    "pruned_model_l1, X_pruned_l1 = run_pruning_algorithms(\"logistic_regression\", X_train, y_train, alpha=0.1)\n",
    "\n",
    "print(f\"L1 Pruning - Shape after pruning: {X_pruned_l1.shape}\")\n"
   ]
  },
  {
   "cell_type": "code",
   "execution_count": 12,
   "metadata": {},
   "outputs": [
    {
     "name": "stdout",
     "output_type": "stream",
     "text": [
      "Fitting 5 folds for each of 27 candidates, totalling 135 fits\n",
      "Best Model (GridSearchCV): RandomForestClassifier(n_estimators=200)\n",
      "Best Parameters (GridSearchCV): {'max_depth': None, 'min_samples_split': 2, 'n_estimators': 200}\n"
     ]
    }
   ],
   "source": [
    "from autoopt.optimizer import run_grid_search\n",
    "\n",
    "best_model_grid, best_params_grid = run_grid_search(\"random_forest\", X_train, y_train)\n",
    "\n",
    "print(\"Best Model (GridSearchCV):\", best_model_grid)\n",
    "print(\"Best Parameters (GridSearchCV):\", best_params_grid)\n"
   ]
  },
  {
   "cell_type": "code",
   "execution_count": 13,
   "metadata": {},
   "outputs": [
    {
     "name": "stdout",
     "output_type": "stream",
     "text": [
      "Fitting 5 folds for each of 5 candidates, totalling 25 fits\n",
      "Best Model (RandomizedSearchCV): SVC(C=1, gamma='auto', kernel='linear')\n",
      "Best Parameters (RandomizedSearchCV): {'kernel': 'linear', 'gamma': 'auto', 'C': 1}\n"
     ]
    }
   ],
   "source": [
    "from autoopt.optimizer import run_randomized_search\n",
    "\n",
    "best_model_random, best_params_random = run_randomized_search(\"svm\", X_train, y_train, n_iter=5)\n",
    "\n",
    "print(\"Best Model (RandomizedSearchCV):\", best_model_random)\n",
    "print(\"Best Parameters (RandomizedSearchCV):\", best_params_random)\n"
   ]
  },
  {
   "cell_type": "code",
   "execution_count": 15,
   "metadata": {},
   "outputs": [
    {
     "name": "stdout",
     "output_type": "stream",
     "text": [
      "L1 Pruning - Shape after pruning: (120, 4)\n"
     ]
    }
   ],
   "source": [
    "from autoopt.pruning import run_pruning_algorithms\n",
    "\n",
    "pruned_model_l1, X_pruned_l1 = run_pruning_algorithms(\"logistic_regression\", X_train, y_train, alpha=0.1)\n",
    "\n",
    "print(f\"L1 Pruning - Shape after pruning: {X_pruned_l1.shape}\")\n"
   ]
  },
  {
   "cell_type": "code",
   "execution_count": 17,
   "metadata": {},
   "outputs": [
    {
     "name": "stdout",
     "output_type": "stream",
     "text": [
      "Feature Importance Pruning - Shape after pruning: (120, 3)\n"
     ]
    }
   ],
   "source": [
    "pruned_model_importance, X_pruned_importance = run_pruning_algorithms(\"random_forest\", X_train, y_train, n_features_to_select=3)\n",
    "\n",
    "print(f\"Feature Importance Pruning - Shape after pruning: {X_pruned_importance.shape}\")\n"
   ]
  },
  {
   "cell_type": "code",
   "execution_count": 18,
   "metadata": {},
   "outputs": [
    {
     "name": "stdout",
     "output_type": "stream",
     "text": [
      "RFE Pruning - Shape after pruning: (120, 3)\n"
     ]
    }
   ],
   "source": [
    "from autoopt.pruning import recursive_feature_elimination\n",
    "from sklearn.ensemble import RandomForestClassifier\n",
    "\n",
    "rfe_model = RandomForestClassifier(n_estimators=100, random_state=42)\n",
    "pruned_model_rfe, X_pruned_rfe = recursive_feature_elimination(rfe_model, X_train, y_train, n_features_to_select=3)\n",
    "\n",
    "print(f\"RFE Pruning - Shape after pruning: {X_pruned_rfe.shape}\")\n"
   ]
  }
 ],
 "metadata": {
  "kernelspec": {
   "display_name": "venv",
   "language": "python",
   "name": "python3"
  },
  "language_info": {
   "codemirror_mode": {
    "name": "ipython",
    "version": 3
   },
   "file_extension": ".py",
   "mimetype": "text/x-python",
   "name": "python",
   "nbconvert_exporter": "python",
   "pygments_lexer": "ipython3",
   "version": "3.12.3"
  }
 },
 "nbformat": 4,
 "nbformat_minor": 2
}
